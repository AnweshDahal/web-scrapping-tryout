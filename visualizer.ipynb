{
 "cells": [
  {
   "cell_type": "markdown",
   "metadata": {},
   "source": [
    "# Vis"
   ]
  },
  {
   "cell_type": "code",
   "execution_count": 2,
   "metadata": {},
   "outputs": [],
   "source": [
    "import pandas as pd"
   ]
  },
  {
   "cell_type": "code",
   "execution_count": 3,
   "metadata": {},
   "outputs": [
    {
     "data": {
      "text/html": [
       "<div>\n",
       "<style scoped>\n",
       "    .dataframe tbody tr th:only-of-type {\n",
       "        vertical-align: middle;\n",
       "    }\n",
       "\n",
       "    .dataframe tbody tr th {\n",
       "        vertical-align: top;\n",
       "    }\n",
       "\n",
       "    .dataframe thead th {\n",
       "        text-align: right;\n",
       "    }\n",
       "</style>\n",
       "<table border=\"1\" class=\"dataframe\">\n",
       "  <thead>\n",
       "    <tr style=\"text-align: right;\">\n",
       "      <th></th>\n",
       "      <th>title</th>\n",
       "      <th>price</th>\n",
       "    </tr>\n",
       "  </thead>\n",
       "  <tbody>\n",
       "    <tr>\n",
       "      <th>0</th>\n",
       "      <td>APPLE iPhone 11 (White, 64 GB)</td>\n",
       "      <td>₹46,999</td>\n",
       "    </tr>\n",
       "    <tr>\n",
       "      <th>1</th>\n",
       "      <td>APPLE iPhone 11 (Black, 64 GB)</td>\n",
       "      <td>₹46,999</td>\n",
       "    </tr>\n",
       "    <tr>\n",
       "      <th>2</th>\n",
       "      <td>APPLE iPhone 11 (Purple, 128 GB)</td>\n",
       "      <td>₹54,900</td>\n",
       "    </tr>\n",
       "    <tr>\n",
       "      <th>3</th>\n",
       "      <td>APPLE iPhone 12 (Purple, 256 GB)</td>\n",
       "      <td>₹74,999</td>\n",
       "    </tr>\n",
       "    <tr>\n",
       "      <th>4</th>\n",
       "      <td>APPLE iPhone 11 (Red, 128 GB)</td>\n",
       "      <td>₹54,900</td>\n",
       "    </tr>\n",
       "    <tr>\n",
       "      <th>...</th>\n",
       "      <td>...</td>\n",
       "      <td>...</td>\n",
       "    </tr>\n",
       "    <tr>\n",
       "      <th>235</th>\n",
       "      <td>Apple iPhone XR (White, 128 GB) (Includes EarP...</td>\n",
       "      <td>₹44,999</td>\n",
       "    </tr>\n",
       "    <tr>\n",
       "      <th>236</th>\n",
       "      <td>APPLE iPhone XR (White, 64 GB)</td>\n",
       "      <td>₹40,359</td>\n",
       "    </tr>\n",
       "    <tr>\n",
       "      <th>237</th>\n",
       "      <td>APPLE iPhone 12 Pro (Graphite, 128 GB)</td>\n",
       "      <td>₹1,09,900</td>\n",
       "    </tr>\n",
       "    <tr>\n",
       "      <th>238</th>\n",
       "      <td>APPLE iPhone SE (3rd Gen) (Starlight, 256 GB)</td>\n",
       "      <td>₹56,900</td>\n",
       "    </tr>\n",
       "    <tr>\n",
       "      <th>239</th>\n",
       "      <td>APPLE iPhone 7 (Black, 32 GB)</td>\n",
       "      <td>₹25,099</td>\n",
       "    </tr>\n",
       "  </tbody>\n",
       "</table>\n",
       "<p>240 rows × 2 columns</p>\n",
       "</div>"
      ],
      "text/plain": [
       "                                                 title      price\n",
       "0                       APPLE iPhone 11 (White, 64 GB)    ₹46,999\n",
       "1                       APPLE iPhone 11 (Black, 64 GB)    ₹46,999\n",
       "2                     APPLE iPhone 11 (Purple, 128 GB)    ₹54,900\n",
       "3                     APPLE iPhone 12 (Purple, 256 GB)    ₹74,999\n",
       "4                        APPLE iPhone 11 (Red, 128 GB)    ₹54,900\n",
       "..                                                 ...        ...\n",
       "235  Apple iPhone XR (White, 128 GB) (Includes EarP...    ₹44,999\n",
       "236                     APPLE iPhone XR (White, 64 GB)    ₹40,359\n",
       "237             APPLE iPhone 12 Pro (Graphite, 128 GB)  ₹1,09,900\n",
       "238      APPLE iPhone SE (3rd Gen) (Starlight, 256 GB)    ₹56,900\n",
       "239                      APPLE iPhone 7 (Black, 32 GB)    ₹25,099\n",
       "\n",
       "[240 rows x 2 columns]"
      ]
     },
     "execution_count": 3,
     "metadata": {},
     "output_type": "execute_result"
    }
   ],
   "source": [
    "flipkart = pd.read_csv('flipkart_apple.csv')\n",
    "flipkart"
   ]
  },
  {
   "cell_type": "code",
   "execution_count": null,
   "metadata": {},
   "outputs": [],
   "source": []
  }
 ],
 "metadata": {
  "kernelspec": {
   "display_name": "Python 3.10.4 ('venv': venv)",
   "language": "python",
   "name": "python3"
  },
  "language_info": {
   "codemirror_mode": {
    "name": "ipython",
    "version": 3
   },
   "file_extension": ".py",
   "mimetype": "text/x-python",
   "name": "python",
   "nbconvert_exporter": "python",
   "pygments_lexer": "ipython3",
   "version": "3.10.4"
  },
  "orig_nbformat": 4,
  "vscode": {
   "interpreter": {
    "hash": "5a737bddd5cb92bd33713cf4fbdcd043aaeabe5142117533167d0dc6e5726507"
   }
  }
 },
 "nbformat": 4,
 "nbformat_minor": 2
}
